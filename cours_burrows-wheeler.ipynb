{
 "cells": [
  {
   "cell_type": "markdown",
   "metadata": {},
   "source": [
    "<span style=\"color: #8b1538; font-size: 35px;\">**Génomique**</span>\n",
    "\n",
    "> But\n",
    "\n",
    "Comment aligner des read sur un génome de référence de manière efficace ?\n",
    "\n",
    "# Introduction\n",
    "\n",
    "- Génome humain: 3 400 Mpb - de l'ordre du milliard\n",
    "- Bactérie type escherichia coli: 4.64 Mpb - de l'ordre du million\n",
    "- Virus type grippe: 0.013 Mpb\n",
    "\n",
    "On ne peut donc pas aligner les read sur l'ensemble d'une génome.\n",
    "\n",
    "<br>\n",
    "\n",
    "# Solution de base - index sur les kmer\n",
    "\n",
    "> Principe\n",
    "\n",
    "- Création du dictionnaire de kmer, i.e l'**index**\n",
    "- Rechechercher dans l'index\n",
    "\n",
    "A chaque kmer est associé un ensemble de position dans le génome de réference. Il est donc plus aisé de faire l'alignement avec les read ensuite.\n",
    "\n",
    "> Problème\n",
    "\n",
    "- Kmer de taille 1: 4\n",
    "- Kmer de taille 2: 4^2\n",
    "- Kmer de taille n: 4^n \n",
    "\n",
    "Très rapidement le nombre de kmer possible explose.\n",
    "\n",
    "<br>\n",
    "\n",
    "# Transformés de Burrows-wheeler (94)\n",
    "\n",
    "A l'origine, index pour la compression.\n",
    "\n",
    "## Exemple\n",
    "\n",
    "Référence: A T A T C G T\n",
    "\n",
    "1. Générer l'ensemble des permutations de la séquence de référence - O(n^2)\n",
    "\n",
    "Le \\$ a été choisi car c'est le caréctère juste avant le A - ordre alphabétique.\n",
    "\n",
    "\\begin{matrix}\n",
    "\\$ & A & T & A & T & C & G & T \\\\\n",
    " T &\\$ & A & T & A & T & C & G \\\\\n",
    " G & T &\\$ & A & T & A & T & C \\\\\n",
    " C & G & T &\\$ & A & T & A & T \\\\\n",
    " T & C & G & T &\\$ & A & T & A \\\\\n",
    " A & T & C & G & T &\\$ & A & T \\\\\n",
    " T & A & T & C & G & T &\\$ & A \\\\\n",
    " A & T & A & T & C & G & T &\\$\n",
    "\\end{matrix}\n",
    " \n",
    " 2. Trier par ordre alphabétique l'ensemble des permutations obtenues - au mieux O(n(log n)) sinon O(n^2)\n",
    " \n",
    "\\begin{matrix}\n",
    "\\$ & A & T & A & T & C & G & T \\\\\n",
    " A & T & A & T & C & G & T &\\$ \\\\\n",
    " A & T & C & G & T &\\$ & A & T \\\\\n",
    " C & G & T &\\$ & A & T & A & T \\\\\n",
    " G & T &\\$ & A & T & A & T & C \\\\\n",
    " T &\\$ & A & T & A & T & C & G \\\\\n",
    " T & A & T & C & G & T &\\$ & A \\\\\n",
    " T & C & G & T &\\$ & A & T & A\n",
    "\\end{matrix}\n",
    " \n",
    " 3. Sélectionner la dernière colonne - appelé la transformé de Burrows-wheeler\n",
    " \n",
    " <span style=\"color: #8b1538; font-size: 18px;\">T \\$ T T C G G A A</span>\n",
    "  \n",
    " ## Propriété\n",
    " \n",
    " - Cette transformé a tendance a regroupé des patternes/mots équivalents ensemble (appelé **motifs**) - compression\n",
    " - A partir de la dernière colonne on peut générer la première en la triant dans l'ordre alphabétique (la réciproque est fausse) - toujours stocker la dernière\n",
    " - Les éléments d'un même motif sont toujours dans le même ordre quelque soit la colonne que l'on regarde"
   ]
  },
  {
   "cell_type": "markdown",
   "metadata": {},
   "source": [
    "# TP\n",
    "\n",
    "Correction: https://drive.google.com/drive/folders/1cMGPhwwUtwBXJgBTZW3lcvrICK_MYZFR\n",
    "\n",
    "## Algorithme de burrows-wheeler"
   ]
  },
  {
   "cell_type": "code",
   "execution_count": 1,
   "metadata": {},
   "outputs": [
    {
     "name": "stdout",
     "output_type": "stream",
     "text": [
      "La séquence extraite T$TTCGAA à partir de la séquence de référence ATATCGT avec l'algorithme de burrows-wheeter\n"
     ]
    }
   ],
   "source": [
    "def burrows_wheeter_transform(seq):\n",
    "    \"\"\"\n",
    "    Cette méthode permet d'appliquer l'algorithme de burrows-wheeter, i.e:\n",
    "        \n",
    "        - générer l'ensemble des permutations de la séquence\n",
    "        - trier par ordre alphabétique l'ensemble des permutations obtenues\n",
    "        - extraire la dernière colonne\n",
    "        \n",
    "    Parameter\n",
    "    ---------\n",
    "    seq: str\n",
    "        la séquence de référence\n",
    "    \n",
    "    Return\n",
    "    ------\n",
    "    bwt: str\n",
    "        la séquence extraite, i.e la transformé de burrows-wheeler\n",
    "    \"\"\"\n",
    "    permutations = ['$' + seq]  # la matrice de burrows-wheeler\n",
    "    for i in range(len(seq)):\n",
    "        last_element = permutations[i][-1]  # Récupérer le dernier nucléotide de la séquence d'indice i\n",
    "        tmp = last_element + permutations[i][0:-1]  # Concaténer ce dernier élément à la séquence d'indice i (sans prendre en compte le dernier élément) pour générer la séquence d'indice i+1\n",
    "        permutations.append(tmp)\n",
    "    permutations.sort()  # trie par ordre alphabétique\n",
    "    \n",
    "    # extraire la dernière colonne\n",
    "    bwt = \"\"\n",
    "    for permut in permutations:\n",
    "        bwt += permut[-1]  # => bwt = bwt + permut[-1]\n",
    "    \n",
    "    return bwt\n",
    "\n",
    "ref = \"ATATCGT\"\n",
    "bwt = burrows_wheeter_transform(ref)\n",
    "print(\"La séquence extraite {} à partir de la séquence de référence {} avec l'algorithme de burrows-wheeter\".format(bwt, ref))"
   ]
  },
  {
   "cell_type": "markdown",
   "metadata": {},
   "source": [
    "## Inverse burrows-wheeler transform"
   ]
  },
  {
   "cell_type": "markdown",
   "metadata": {},
   "source": [
    "Principe de la transformé inverse - [Burrows-wheler transform ](https://en.wikipedia.org/wiki/Burrows%E2%80%93Wheeler_transform)\n",
    "\n",
    "1. Ajout de la séquence transformé en tant que 1ère colonne de la matrice\n",
    "2. Trie par ordre alphabétique les lignes de la matrice\n",
    "\n",
    "> Exemple jouet avec la transformé **T\\$A**\n",
    "\n",
    "\\begin{matrix}\n",
    "ADD1 & SORT1 \\\\\n",
    " T   & \\$   \\\\\n",
    "\\$   &  A   \\\\\n",
    " A   &  T  \n",
    "\\end{matrix}\n",
    "\n",
    "\\begin{matrix}\n",
    "ADD2  & SORT2 \\\\\n",
    " T\\$  & \\$A   \\\\\n",
    "\\$A   &  AT   \\\\\n",
    " AT   &  T\\$  \n",
    "\\end{matrix}\n",
    "\n",
    "\\begin{matrix}\n",
    "ADD3  & SORT3 \\\\\n",
    " T\\$A & \\$AT  \\\\\n",
    "\\$AT  & AT\\$  \\\\\n",
    " AT\\$ & T\\$A\n",
    "\\end{matrix}\n",
    "\n",
    "La séquence d'origine est donc **AT**."
   ]
  },
  {
   "cell_type": "code",
   "execution_count": 2,
   "metadata": {},
   "outputs": [
    {
     "name": "stdout",
     "output_type": "stream",
     "text": [
      "La séquence initiale est ATATCGT - trouvé à partir de la transformée T$TTCGAA\n"
     ]
    }
   ],
   "source": [
    "def inverse_bwt(bwt):\n",
    "    \"\"\"\n",
    "    Cette méthode permet de revenir à la séquence d'origine à partir de la séquence transformée.\n",
    "    \n",
    "        - Ajouter dans inverse la transformé en tant que 1ère colonne\n",
    "        - Trier par ordre alphabétique les lignes de inverse\n",
    "    \n",
    "    Parameter\n",
    "    ---------\n",
    "    bwt: str\n",
    "        la séquence transformée\n",
    "        \n",
    "    Return\n",
    "    ------\n",
    "    seq: str\n",
    "        la séquence d'origine\n",
    "    \"\"\"\n",
    "    inverse = [\"\"] * len(bwt)\n",
    "    for _ in range(len(bwt)):\n",
    "        tmp = [bwt[i] + inverse[i] for i in range(len(bwt))]  # ajoute la transformé en tant que 1ère colonne\n",
    "        inverse = sorted(tmp)  # Trie par ordre alphabétique les \"ligne\" la matrice\n",
    "    seq = [row for row in inverse if row.startswith('$')][0]  # Extrait la séquence initiale\n",
    "    return seq.strip('$')\n",
    "\n",
    "seq_initial = inverse_bwt(bwt)\n",
    "print(\"La séquence initiale est {} - trouvé à partir de la transformée {}\".format(seq_initial, bwt))"
   ]
  },
  {
   "cell_type": "markdown",
   "metadata": {},
   "source": [
    "## Génération du FM index\n",
    "\n",
    "Le [FM index](http://rmpiro.net/teaching/pub/lectures/fu-genomics/05-Read_mapping_2.pdf) (p36) utilise la transformé de burrows-wheeler pour permettre la recherche de patternes dans un string.\n",
    "Dans notre cas, ca permet d'aligner des reads avec un génome de référence.\n",
    "\n",
    "Nécessite deux structures de données:\n",
    "- bwt: la transformée de burrows-wheeler - T\\$TTCGAA\n",
    "- bwt_sort: la transformé de burrows-wheeler dans l'ordre alphabétique \\$AACGTTT\n",
    "        \n",
    "### Générer la *tally table* de taille m * c avec \n",
    "\n",
    "- m: le nombre de position dans la transformée - ici 8\n",
    "- c: le nombre de charactères - ici 5: \\$, A, C, G et T\n",
    "\n",
    "Une manière efficace de déterminer les nucléotides qui précèdent un nucléotide donné\n",
    "\n",
    "\\begin{matrix}\n",
    "bwt\\_sort & bwt  & \\$ & A & C & G & T \\\\\n",
    "\\$_0      &  T_0 &  0 & 0 & 0 & 0 & 1 \\\\\n",
    " A_0      & \\$_0 &  1 & 0 & 0 & 0 & 1 \\\\\n",
    " A_1      &  T_1 &  1 & 0 & 0 & 0 & 2 \\\\\n",
    " C_0      &  T_2 &  1 & 0 & 0 & 0 & 3 \\\\\n",
    " G_0      &  C_0 &  1 & 0 & 1 & 0 & 3 \\\\\n",
    " T_0      &  G_0 &  1 & 0 & 1 & 1 & 3 \\\\\n",
    " T_1      &  A_0 &  1 & 1 & 1 & 1 & 3 \\\\\n",
    " T_2      &  A_1 &  1 & 2 & 1 & 1 & 3\n",
    "\\end{matrix}"
   ]
  },
  {
   "cell_type": "code",
   "execution_count": 3,
   "metadata": {},
   "outputs": [
    {
     "name": "stdout",
     "output_type": "stream",
     "text": [
      "[{'$': 0, 'A': 0, 'C': 0, 'G': 0, 'T': 1}, {'$': 1, 'A': 0, 'C': 0, 'G': 0, 'T': 1}, {'$': 1, 'A': 0, 'C': 0, 'G': 0, 'T': 2}, {'$': 1, 'A': 0, 'C': 0, 'G': 0, 'T': 3}, {'$': 1, 'A': 0, 'C': 1, 'G': 0, 'T': 3}, {'$': 1, 'A': 0, 'C': 1, 'G': 1, 'T': 3}, {'$': 1, 'A': 1, 'C': 1, 'G': 1, 'T': 3}, {'$': 1, 'A': 2, 'C': 1, 'G': 1, 'T': 3}]\n"
     ]
    }
   ],
   "source": [
    "import copy\n",
    "\n",
    "def tally_table(bwt):\n",
    "    \"\"\"\n",
    "    Génère une tally table à partir de la transformée\n",
    "    \n",
    "    Parameter\n",
    "    ---------\n",
    "    bwt: str\n",
    "        la séquence transformée\n",
    "    \n",
    "    Return\n",
    "    ------\n",
    "    tally: list\n",
    "        la tally table stocké sous la forme d'une liste de dictionnaire\n",
    "    \"\"\"\n",
    "    dico, tally = {'$': 0, 'A': 0, 'C': 0, 'G': 0, 'T': 0}, []\n",
    "    for nucleotide in bwt:\n",
    "        dico[nucleotide] += 1  # Une occurence d'un nucleotide donné\n",
    "        tally.append(copy.deepcopy(dico))  # Ajoute dans la tally table\n",
    "    return tally\n",
    "    \n",
    "tally = tally_table(bwt)\n",
    "print(tally)"
   ]
  },
  {
   "cell_type": "markdown",
   "metadata": {},
   "source": [
    "### Générer C[c] & ranks avec\n",
    "\n",
    "- c: les caractères de notre alphabet - \\$, A, C, G & T\n",
    "- C[c]: le nombre d'occurences de charactères lexicalement plus petits dans la séquence et ceux pour chaque caractères\n",
    "    \n",
    "    > Soit \\$: 0, A: 1, C: 3 -, G: 4, T: 5\n",
    "    \n",
    "- ranks: le rang de chaque nucléotide de la transformé\n",
    "\n",
    "    > Soit T0 $0 T1 T2 C0 G0 A0 A1 - [0, 0, 1, 2, 0, 0, 0, 1]"
   ]
  },
  {
   "cell_type": "code",
   "execution_count": 4,
   "metadata": {},
   "outputs": [
    {
     "name": "stdout",
     "output_type": "stream",
     "text": [
      "Nb caractères plus petits: {'$': 0, 'A': 1, 'C': 3, 'G': 4, 'T': 5}\n",
      "Rang: [0, 0, 1, 2, 0, 0, 0, 1]\n"
     ]
    }
   ],
   "source": [
    "from collections import Counter\n",
    "\n",
    "def nb_inferieurs(bwt):\n",
    "    \"\"\"\n",
    "    Génère le nombre d'occurences de caractères plus petits dans la séquence.\n",
    "    \n",
    "    Et ceux pour chaque caractères.\n",
    "    \n",
    "    Parameter\n",
    "    ---------\n",
    "    bwt: str\n",
    "        la séquence transformée\n",
    "    \n",
    "    Return\n",
    "    ------\n",
    "    inferieurs: dict\n",
    "        un dictionnaire des occurences\n",
    "    \"\"\"\n",
    "    inferieurs, count = {'$': 0, 'A': 0, 'C': 0, 'G': 0, 'T': 0}, Counter(sorted(bwt))\n",
    "    nb = 0\n",
    "    for nucleotide in inferieurs.keys():\n",
    "        inferieurs[nucleotide] = nb\n",
    "        nb += count[nucleotide]\n",
    "    return inferieurs\n",
    "    \n",
    "inferieurs = nb_inferieurs(bwt)\n",
    "\n",
    "\n",
    "def generer_ranks(bwt):\n",
    "    \"\"\"\n",
    "    Détermine le rang de chaque caractères de la transformée\n",
    "    \n",
    "    Parameter\n",
    "    ---------\n",
    "    bwt: str\n",
    "        la séquence transformée\n",
    "    \n",
    "    Return\n",
    "    ------\n",
    "    ranks: list\n",
    "        liste des rangs\n",
    "    \"\"\"\n",
    "    dico, ranks = {'$': 0, 'A': 0, 'C': 0, 'G': 0, 'T': 0}, []\n",
    "    for nucleotide in bwt:\n",
    "        ranks.append(dico[nucleotide])\n",
    "        dico[nucleotide] += 1\n",
    "    return ranks\n",
    "\n",
    "ranks = generer_ranks(bwt)\n",
    "\n",
    "print(\"Nb caractères plus petits: {}\".format(inferieurs))\n",
    "print(\"Rang: {}\".format(ranks))"
   ]
  },
  {
   "cell_type": "markdown",
   "metadata": {},
   "source": [
    "### Déterminer les positions des nucléotides de la séquence transformée dans la séquence d'origine\n",
    "\n",
    "WBT: T0 \\$  T1 T2 C0 G0 A0 A1\n",
    "\n",
    "Seq: A T A T C G T <br>\n",
    "Pos: 0 1 2 3 4 5 6\n",
    "\n",
    "T0 -> c'est le dernier T de la séquence car avant \\$ - T en pos 6 <br>\n",
    "T1 -> le 1er T de la séquence - T pos 1 <br>\n",
    "T2 -> le 2ème T de la séquence - T pos 3 <br>\n",
    "C0 -> C en position 4 <br>\n",
    "G0 -> G en position 5 <br>\n",
    "A1 -> le 1er A de la séquence - A pos 0 <br>\n",
    "A2 -> le 2ème A de la séquence - A pos 2 "
   ]
  },
  {
   "cell_type": "code",
   "execution_count": 5,
   "metadata": {},
   "outputs": [
    {
     "name": "stdout",
     "output_type": "stream",
     "text": [
      "[6, -1, 1, 3, 4, 5, 0, 2]\n"
     ]
    }
   ],
   "source": [
    "def generer_position(bwt, inferieurs, ranks):\n",
    "    \"\"\"\n",
    "    Détermine la position des nucléotides de la transformée dans la séquence d'origine.\n",
    "    \n",
    "    Une position de -1 est affectée au $.\n",
    "    \n",
    "    Parameter\n",
    "    ---------\n",
    "    bwt: str\n",
    "        la séquence transformée\n",
    "    inferieurs: dict\n",
    "        un dictionnaire des occurences\n",
    "    ranks: list\n",
    "        liste des rangs\n",
    "    \n",
    "    Return\n",
    "    ------\n",
    "    pos: list\n",
    "        liste des positions\n",
    "    \"\"\"\n",
    "    pos = [-1] * len(bwt)\n",
    "    seq = \"\"\n",
    "    x = len(bwt)-2\n",
    "    p = 0\n",
    "    while bwt[p] != \"$\":\n",
    "        pos[p] = x\n",
    "        p = inferieurs[bwt[p]] + ranks[p]\n",
    "        x -= 1\n",
    "    return pos\n",
    "\n",
    "positions = generer_position(bwt, inferieurs, ranks)\n",
    "\n",
    "print(positions)"
   ]
  },
  {
   "cell_type": "markdown",
   "metadata": {},
   "source": [
    "### Alignement read sur génome de référence\n",
    "\n",
    "La séquence transformée donne comme information\n",
    "\n",
    "- Les nucléotides présents et leurs nombres\n",
    "- le nombre et le type d'éléments qui précédent un nucléotide donné\n",
    "\n",
    "Principe - TAT\n",
    "\n",
    "1. Sélectionner le dernier nucléotide du read: T\n",
    "2. Chercher avec la transformée tous les T précédé d'un A\n",
    "3. Chercher\n"
   ]
  },
  {
   "cell_type": "code",
   "execution_count": 6,
   "metadata": {},
   "outputs": [],
   "source": [
    "def map(read, inferieurs, tally):\n",
    "    \"\"\"\n",
    "    Permet d'aligner le read avec le génome de référence.\n",
    "    \n",
    "    Parameter\n",
    "    ---------\n",
    "    read: str\n",
    "        le read à aligner\n",
    "    inferieurs: dict\n",
    "        un dictionnaire des occurences\n",
    "    tally: list\n",
    "        la tally table stocké sous la forme d'une liste de dictionnaire\n",
    "        \n",
    "    Return\n",
    "    ------\n",
    "    borne_inf: int\n",
    "        borne inféreur du vecteur positions\n",
    "    borne_supp: int\n",
    "        borne supérieur du vecteur positions\n",
    "    \"\"\"\n",
    "    i = len(read) - 1\n",
    "    borne_inf = inferieurs[read[i]]\n",
    "    borne_supp = inferieurs[read[i]] + tally[-1][read[i]] - 1\n",
    "    while i >= 1 and borne_inf <= borne_supp:\n",
    "        i -= 1\n",
    "        borne_inf = inferieurs[read[i]] + tally[borne_inf-1][read[i]]\n",
    "        borne_supp = inferieurs[read[i]] + tally[borne_supp][read[i]] - 1\n",
    "    return borne_inf, borne_supp"
   ]
  },
  {
   "cell_type": "markdown",
   "metadata": {},
   "source": [
    "### Méthode d'affichage de l'alignement des reads sur la séquence\n",
    "\n",
    "Seulement pour des exemple jouets de quelques pb"
   ]
  },
  {
   "cell_type": "code",
   "execution_count": 7,
   "metadata": {},
   "outputs": [],
   "source": [
    "def determiner_alignement(ref, read, positions, bornes):\n",
    "    \"\"\"\n",
    "    Renvoie l'alignement d'un read donné avec la séquence de référence.\n",
    "\n",
    "    Parameter\n",
    "    ---------\n",
    "    ref: str\n",
    "        la séquence de référence\n",
    "    read: str\n",
    "        le read à aligner\n",
    "    positions: list\n",
    "        liste des positions\n",
    "    bornes: tuple\n",
    "        les bornes du vecteur positions\n",
    "\n",
    "    Return\n",
    "    ------\n",
    "    alignement: str\n",
    "        l'alignement du reads avec la séquence de référence\n",
    "    matches: int\n",
    "        le nombre de match pour le read donné\n",
    "    \"\"\"\n",
    "    # Déterminer les positions de départ de chaque motifs dans la séquence\n",
    "    start_motif = []\n",
    "    for i in range(bornes[0], bornes[1]+1):\n",
    "        start_motif.append(positions[i]+1)\n",
    "    start_motif.sort()\n",
    "    matches = len(start_motif)\n",
    "    print(start_motif)\n",
    "    \n",
    "    # Déterminer l'alignement\n",
    "    alignement = \".\" * len(ref)\n",
    "    for pos in start_motif:\n",
    "        alignement = alignement[:pos] + read + alignement[pos+len(read):]\n",
    "        \n",
    "    return alignement, matches"
   ]
  },
  {
   "cell_type": "markdown",
   "metadata": {},
   "source": [
    "### Alignement de T sur ATATCGT"
   ]
  },
  {
   "cell_type": "code",
   "execution_count": 8,
   "metadata": {},
   "outputs": [
    {
     "name": "stdout",
     "output_type": "stream",
     "text": [
      "[Borne inf = 5 ; Borne supp = 7]\n"
     ]
    }
   ],
   "source": [
    "read = \"T\"\n",
    "bornes = map(read, inferieurs, tally)\n",
    "print(\"[Borne inf = {} ; Borne supp = {}]\".format(bornes[0], bornes[1]))"
   ]
  },
  {
   "cell_type": "markdown",
   "metadata": {},
   "source": [
    "<pre>\n",
    "<span style=\"color: blue;\">Positions</span> 6 -1 1 3 4 <span style=\"color: blue; font-weight: bold;\">5 0 2</span>\n",
    "<span style=\"color: #8b1538;\">Index</span>     0  1 2 3 4 <span style=\"color: #8b1538; font-weight: bold;\">5 6 7</span>\n",
    "</pre>\n",
    "\n",
    "Indique quand positions 5**+1**, 0**+1** & 2**+1** de la séquence de référence il y a un T"
   ]
  },
  {
   "cell_type": "code",
   "execution_count": 9,
   "metadata": {},
   "outputs": [
    {
     "name": "stdout",
     "output_type": "stream",
     "text": [
      "[1, 3, 6]\n",
      "Alignement - 3 matches\n",
      "Sequence: ATATCGT\n",
      "   Reads: .T.T..T\n"
     ]
    }
   ],
   "source": [
    "alignement, matches = determiner_alignement(ref, read, positions, bornes)\n",
    "\n",
    "print(\"Alignement - {} matches\".format(matches))\n",
    "print(\"Sequence: {}\".format(ref))\n",
    "print(\"   Reads: {}\".format(alignement))"
   ]
  },
  {
   "cell_type": "markdown",
   "metadata": {},
   "source": [
    "### Alignement de TAT sur ATATCGT"
   ]
  },
  {
   "cell_type": "code",
   "execution_count": 10,
   "metadata": {},
   "outputs": [
    {
     "name": "stdout",
     "output_type": "stream",
     "text": [
      "[Borne inf = 6 ; Borne supp = 6]\n"
     ]
    }
   ],
   "source": [
    "read = \"TAT\"\n",
    "bornes = map(read, inferieurs, tally)\n",
    "print(\"[Borne inf = {} ; Borne supp = {}]\".format(bornes[0], bornes[1]))"
   ]
  },
  {
   "cell_type": "markdown",
   "metadata": {},
   "source": [
    "<pre>\n",
    "<span style=\"color: blue;\">Positions</span> 6 -1 1 3 4 5 <span style=\"color: blue; font-weight: bold;\">0</span> 2\n",
    "<span style=\"color: #8b1538;\">Index</span>     0  1 2 3 4 5 <span style=\"color: #8b1538; font-weight: bold;\">6</span> 7\n",
    "</pre>\n",
    "\n",
    "Indique quand positions 0**+1** de la séquence de référence il y a un motif **TAT** qui commence."
   ]
  },
  {
   "cell_type": "code",
   "execution_count": 11,
   "metadata": {},
   "outputs": [
    {
     "name": "stdout",
     "output_type": "stream",
     "text": [
      "[1]\n",
      "Alignement - 1 matches\n",
      "Sequence: ATATCGT\n",
      "   Reads: .TAT...\n"
     ]
    }
   ],
   "source": [
    "alignement, matches = determiner_alignement(ref, read, positions, bornes)\n",
    "\n",
    "print(\"Alignement - {} matches\".format(matches))\n",
    "print(\"Sequence: {}\".format(ref))\n",
    "print(\"   Reads: {}\".format(alignement))"
   ]
  },
  {
   "cell_type": "markdown",
   "metadata": {},
   "source": [
    "# Amélioration bwt\n",
    "\n",
    "> Problème de l'algortihme *Burros-wheeler transform*\n",
    "\n",
    "Cas de l'algorithme dit naif, création d'une matrice de taille n * n avec n la taille de la séquence de référence.\n",
    "\n",
    "Dans le cas du génome humain (3 400 Mpb), la taille de la matrice sera de l'ordre du pebibyte (10e18). Il faut donc améliorer l'algorithme de *Burros-wheeler transform*.\n",
    "\n",
    "> 1ère amélioration \"naive\"\n",
    "\n",
    "Lors de la formation de la matrice"
   ]
  },
  {
   "cell_type": "code",
   "execution_count": 12,
   "metadata": {},
   "outputs": [
    {
     "name": "stdout",
     "output_type": "stream",
     "text": [
      "La séquence extraite T$TTCGAA à partir de la séquence de référence ATATCGT avec l'algorithme de burrows-wheeter\n"
     ]
    }
   ],
   "source": [
    "import numpy as np\n",
    "\n",
    "def bwt_amelioration(seq):\n",
    "    \"\"\"\n",
    "    Cette méthode permet d'appliquer l'algorithme de burrows-wheeter tansform.\n",
    "\n",
    "    Ici, une première approche pour améliorer l'algorithme est mise en place.\n",
    "\n",
    "    Parameter\n",
    "    ---------\n",
    "    seq: str\n",
    "        la séquence de référence\n",
    "\n",
    "    Return\n",
    "    ------\n",
    "    bwt: str\n",
    "        la séquence extraite, i.e la transformé de burrows-wheeler\n",
    "    \"\"\"\n",
    "    # Générer la matrice de permutations simplifiée\n",
    "    permutations, last_element = [\"$\"], \"\"\n",
    "    for i in range(len(seq)):\n",
    "        last_element += seq[-(i+1)]\n",
    "        permutations.append(seq[-(i+1):] + \"$\")\n",
    "    last_element += \"$\"\n",
    "\n",
    "    # Générer la transformée\n",
    "    sort_permutation = np.argsort(permutations)\n",
    "    bwt = [\"\"] * len(permutations)\n",
    "    for i in range(len(bwt)):\n",
    "        bwt[i] = last_element[sort_permutation[i]]\n",
    "\n",
    "    return \"\".join(bwt)\n",
    "\n",
    "ref = \"ATATCGT\"\n",
    "bwt = bwt_amelioration(ref)\n",
    "print(\"La séquence extraite {} à partir de la séquence de référence {} avec l'algorithme de burrows-wheeter\".format(bwt, ref))"
   ]
  },
  {
   "cell_type": "markdown",
   "metadata": {},
   "source": [
    "Cependant cette méthode bien qu'elle permet de diviser par deux la taille de la matrice de permutaions, on obtient pas un résultat significativement meilleur."
   ]
  }
 ],
 "metadata": {
  "kernelspec": {
   "display_name": "Python 3",
   "language": "python",
   "name": "python3"
  },
  "language_info": {
   "codemirror_mode": {
    "name": "ipython",
    "version": 3
   },
   "file_extension": ".py",
   "mimetype": "text/x-python",
   "name": "python",
   "nbconvert_exporter": "python",
   "pygments_lexer": "ipython3",
   "version": "3.7.5"
  }
 },
 "nbformat": 4,
 "nbformat_minor": 4
}
